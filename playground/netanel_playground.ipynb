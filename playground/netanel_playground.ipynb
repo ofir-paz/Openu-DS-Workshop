{
 "cells": [
  {
   "cell_type": "code",
   "execution_count": null,
   "metadata": {},
   "outputs": [],
   "source": [
    "import torch\n",
    "import torch.nn as nn\n",
    "import torch.nn.functional as F\n",
    "import numpy as np\n",
    "from monai.networks.nets import UNet\n",
    "from typing import List, Tuple, Dict, Any, Union, Optional\n",
    "\n",
    "import os, sys\n",
    "\n",
    "#TODO: fix this, this is temporary\n",
    "sys.path.append(os.path.abspath('M:/Users/netan/Desktop/Coding Folder/Openu-DS-Workshop/src'))\n",
    "\n",
    "import src.config as cfg\n",
    "from src.loaders import load_dicom_series"
   ]
  },
  {
   "cell_type": "code",
   "execution_count": 65,
   "metadata": {},
   "outputs": [],
   "source": [
    "# This class should not be changed.\n",
    "# The model is UNet, the class just converts UNet to a classifier\n",
    "class UNetClassifier(nn.Module):\n",
    "    def __init__(self, num_classes=25):\n",
    "        super(UNetClassifier, self).__init__()\n",
    "    \n",
    "        # Normal UNet model\n",
    "        self.unet = UNet(\n",
    "            spatial_dims=3,  # 3D UNet\n",
    "            in_channels=1,\n",
    "            out_channels=128,\n",
    "            channels=(16, 32, 64, 128, 128), # The 128 in the end is cut off\n",
    "            strides=(2, 2, 2, 2),\n",
    "            num_res_units=2,\n",
    "        )\n",
    "        \n",
    "        # Change the path in the config to match your path\n",
    "        # Loads the weights of 'Wholebrainseg large unest' model\n",
    "        self.unet.load_state_dict(torch.load(cfg.MODEL_PATH), strict=False)\n",
    "        \n",
    "        # Remove the head of the sagmantation \n",
    "        self.unet.model = self.unet.model[:-1]\n",
    "        \n",
    "        # Global Average Pooling to convert feature maps to a vector\n",
    "        self.global_avg_pool = nn.AdaptiveAvgPool3d(1)\n",
    "        \n",
    "        # Fully connected layer to classify into num_classes categories\n",
    "        self.fc = nn.Linear(32, num_classes)\n",
    "    \n",
    "    def forward(self, x):\n",
    "        # Pass through the UNet backbone\n",
    "        x = self.unet(x)\n",
    "        \n",
    "        x = self.global_avg_pool(x)\n",
    "        \n",
    "        # Flatten the output and pass it through the classifier\n",
    "        x = torch.flatten(x, 1)\n",
    "        x = self.fc(x) \n",
    "        \n",
    "        return x"
   ]
  },
  {
   "cell_type": "code",
   "execution_count": 66,
   "metadata": {},
   "outputs": [],
   "source": [
    "# Uses trilinear interpolation to resize the image\n",
    "def resize_image_stack(image_stack: np.ndarray, new_size: Tuple[int, int, int]) -> torch.Tensor:\n",
    "    image_tensor = torch.Tensor(image_stack).unsqueeze(0).unsqueeze(0) # interpolate needs 5D tensor\n",
    "    resized_tensor = F.interpolate(image_tensor, size=new_size, mode='trilinear', align_corners=False)\n",
    "    \n",
    "    return resized_tensor"
   ]
  },
  {
   "cell_type": "code",
   "execution_count": null,
   "metadata": {},
   "outputs": [],
   "source": [
    "model = UNetClassifier(num_classes=25)\n",
    "model.eval()\n",
    "\n",
    "# Load the DICOM series\n",
    "image3d = load_dicom_series(cfg.DATA_PATH / cfg.EXAMPLE_STIR_ID)\n",
    "\n",
    "# The model was trained on 96x96x96\n",
    "resized_image_tensor = resize_image_stack(image3d, new_size=(96, 96, 96))\n",
    "\n",
    "#TODO: this is just for testing the model. This needs to be replaced\n",
    "with torch.no_grad():\n",
    "    output = model(resized_image_tensor)\n",
    "\n",
    "predicted_class = torch.argmax(output, dim=1)\n",
    "\n",
    "predicted_class_np = predicted_class.cpu().numpy()\n",
    "\n",
    "print(\"Predicted Class:\", predicted_class_np)"
   ]
  }
 ],
 "metadata": {
  "kernelspec": {
   "display_name": ".venv",
   "language": "python",
   "name": "python3"
  },
  "language_info": {
   "codemirror_mode": {
    "name": "ipython",
    "version": 3
   },
   "file_extension": ".py",
   "mimetype": "text/x-python",
   "name": "python",
   "nbconvert_exporter": "python",
   "pygments_lexer": "ipython3",
   "version": "3.12.4"
  }
 },
 "nbformat": 4,
 "nbformat_minor": 2
}
