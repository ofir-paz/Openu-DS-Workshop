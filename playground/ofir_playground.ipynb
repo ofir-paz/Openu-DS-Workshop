{
 "cells": [
  {
   "cell_type": "code",
   "execution_count": 1,
   "metadata": {
    "ExecuteTime": {
     "end_time": "2024-09-26T12:43:32.871286Z",
     "start_time": "2024-09-26T12:43:32.833942Z"
    }
   },
   "outputs": [],
   "source": [
    "%load_ext autoreload\n",
    "%autoreload 2"
   ]
  },
  {
   "cell_type": "code",
   "execution_count": null,
   "metadata": {
    "ExecuteTime": {
     "end_time": "2024-09-26T12:43:38.235739Z",
     "start_time": "2024-09-26T12:43:38.042146Z"
    }
   },
   "outputs": [],
   "source": [
    "import sys\n",
    "import os\n",
    "from pathlib import Path\n",
    "\n",
    "# Add the root directory to the Python path\n",
    "root_dir = os.path.abspath(Path(os.path.dirname(os.path.abspath(\"__file__\"))).parent)\n",
    "sys.path.append(root_dir)\n",
    "\n",
    "print(f\"Added {root_dir} to the Python path.\")"
   ]
  },
  {
   "cell_type": "code",
   "execution_count": 10,
   "metadata": {
    "ExecuteTime": {
     "end_time": "2024-09-26T12:45:46.048113Z",
     "start_time": "2024-09-26T12:45:45.959209Z"
    }
   },
   "outputs": [],
   "source": [
    "from torch.utils.data import DataLoader\n",
    "from src.model.spine_cnn import LumbarSpineStenosisResNet\n",
    "from src.dataset.spine_dataset import LumbarSpineDataset"
   ]
  },
  {
   "cell_type": "code",
   "execution_count": 11,
   "metadata": {
    "ExecuteTime": {
     "end_time": "2024-09-26T12:45:49.063047Z",
     "start_time": "2024-09-26T12:45:48.959947Z"
    }
   },
   "outputs": [],
   "source": [
    "dataset = LumbarSpineDataset(True)\n",
    "train_dataset, val_dataset = dataset.split(val_size=0.2)\n",
    "train_dataloader = DataLoader(train_dataset, batch_size=1, shuffle=True, num_workers=3)\n",
    "val_dataloader = DataLoader(val_dataset, batch_size=1, shuffle=False, num_workers=3)"
   ]
  },
  {
   "cell_type": "code",
   "execution_count": 12,
   "metadata": {
    "ExecuteTime": {
     "end_time": "2024-09-26T12:45:50.833494Z",
     "start_time": "2024-09-26T12:45:50.288099Z"
    }
   },
   "outputs": [],
   "source": [
    "model = LumbarSpineStenosisResNet(pretrained=True, progress=True, hidden_size=1024, dropout=0.2)"
   ]
  },
  {
   "cell_type": "code",
   "execution_count": null,
   "metadata": {
    "ExecuteTime": {
     "end_time": "2024-09-26T12:47:22.924286Z",
     "start_time": "2024-09-26T12:47:10.057923Z"
    }
   },
   "outputs": [],
   "source": [
    "model.fit(train_loader=train_dataloader, val_loader=val_dataloader, num_epochs=3,\n",
    "            lr=0.1, momentum=0.9, wd=0.01, try_cuda=True, verbose=True, print_stride=1)"
   ]
  }
 ],
 "metadata": {
  "kernelspec": {
   "display_name": "Python 3",
   "language": "python",
   "name": "python3"
  },
  "language_info": {
   "codemirror_mode": {
    "name": "ipython",
    "version": 3
   },
   "file_extension": ".py",
   "mimetype": "text/x-python",
   "name": "python",
   "nbconvert_exporter": "python",
   "pygments_lexer": "ipython3",
   "version": "3.11.6"
  }
 },
 "nbformat": 4,
 "nbformat_minor": 2
}
