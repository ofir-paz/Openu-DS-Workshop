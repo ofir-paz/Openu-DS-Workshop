{
 "cells": [
  {
   "cell_type": "markdown",
   "metadata": {},
   "source": [
    "# Workshop In Data Science"
   ]
  },
  {
   "cell_type": "markdown",
   "metadata": {},
   "source": [
    "Project made by:\n",
    "- Ofir Paz\n",
    "- Netanel Ulitszky\n",
    "\n",
    "For the course [\"Workshop in Data Science\"](https://www.openu.ac.il/courses/20936.htm) (20936) at The Open University of Israel.\n",
    "\n",
    "Personal links:\n",
    "<style>\n",
    "table {\n",
    "    border-collapse: collapse;\n",
    "    width: 50%;\n",
    "    margin-left: auto;\n",
    "    margin-right: auto;\n",
    "}\n",
    "td {\n",
    "    padding: 6px;\n",
    "    text-align: center;\n",
    "    border-bottom: 1px solid #DDD;\n",
    "}\n",
    "\n",
    "tr:hover {background-color: #333333;}\n",
    "</style>\n",
    "<table>\n",
    "    <tr>\n",
    "        <td>Ofir Paz</td>\n",
    "        <td>Netanel Ulitszky</td>\n",
    "    </tr>\n",
    "    <tr>\n",
    "        <td><a href=\"https://www.linkedin.com/in/ofir-paz\">Linkedin</a></td>\n",
    "        <td><a href=\"https://www.linkedin.com/in/netanel-ulitszky\">Linkedin</a></td>\n",
    "    </tr>\n",
    "    <tr>\n",
    "        <td><a href=\"https://www.github.com/ofir-paz\">Github</a></td>\n",
    "        <td><a href=\"https://github.com/netane54544\">Github</a></td>\n",
    "    </tr>\n",
    "    <tr>\n",
    "        <td><a href=\"https://www.kaggle.com/ofirpaz\">Kaggle</a></td>\n",
    "        <td><a href=\"https://www.kaggle.com/netanelulitszky\">Kaggle</a></td>\n",
    "    </tr>\n",
    "</table>"
   ]
  },
  {
   "cell_type": "markdown",
   "metadata": {},
   "source": [
    "## Table Of Contents"
   ]
  },
  {
   "cell_type": "markdown",
   "metadata": {},
   "source": [
    "<style>\n",
    "ol, ul {\n",
    "    list-style-position: inside;  /* Move the list marker inside the padding */\n",
    "    padding-left: 3em;  /* Add padding to create the effect of a tab */\n",
    "}\n",
    "</style>\n",
    "<details>\n",
    "    <summary>\n",
    "        1. <a href=\"#introduction\">Introduction</a>\n",
    "    </summary>\n",
    "    <ol>\n",
    "        <li><a href=\"#background\">Background</a></li>\n",
    "        <li><a href=\"#the-competition\">The Competition</a></li>\n",
    "    </ol>\n",
    "</details>\n",
    "<details>\n",
    "    <summary>\n",
    "        2. <a href=\"#exploratory-data-analysis\">Exploratory Data Analysis</a>\n",
    "    </summary>\n",
    "    <ol>\n",
    "        <li><a href=\"#scan-types\">Scan Types</a></li>\n",
    "    </ol>\n",
    "</details>"
   ]
  },
  {
   "cell_type": "markdown",
   "metadata": {},
   "source": [
    "## Introduction"
   ]
  },
  {
   "cell_type": "markdown",
   "metadata": {},
   "source": [
    "### Background"
   ]
  },
  {
   "cell_type": "markdown",
   "metadata": {},
   "source": [
    "We are Ofir Paz and Netanel Ulitzky, two students from The Open University of Israel, are excited to present our project in the course \"Workshop in Data Science\" (20936).\n",
    "\n",
    "We are both very interested in the field of data science and are passionated about the endless possibilities it offers, so choosing this course was a natural choice for us. But in the other hand, choosing the topic for our project was a bit more challenging for the same reason. We wanted to choose a topic that will be interesting, challenging, relevant and useful with big potential for *exploratory data analysis* (EDA). After a long and thorough search, we have stumbled upon the [\"Kaggle\"](https://www.kaggle.com) platform and found the [\"RSNA 2024 Lumbar Spine Degenerative Classification\"](https://www.kaggle.com/competitions/rsna-2024-lumbar-spine-degenerative-classification) competition."
   ]
  },
  {
   "cell_type": "markdown",
   "metadata": {},
   "source": [
    "### The Competition"
   ]
  },
  {
   "cell_type": "markdown",
   "metadata": {},
   "source": [
    "## Exploratory Data Analysis"
   ]
  },
  {
   "cell_type": "markdown",
   "metadata": {},
   "source": [
    "### Scan Types"
   ]
  },
  {
   "cell_type": "markdown",
   "metadata": {},
   "source": [
    "ארוכה אחו שרמוטה"
   ]
  }
 ],
 "metadata": {
  "language_info": {
   "name": "python"
  }
 },
 "nbformat": 4,
 "nbformat_minor": 2
}
