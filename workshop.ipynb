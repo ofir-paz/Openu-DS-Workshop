{
 "cells": [
  {
   "cell_type": "markdown",
   "metadata": {},
   "source": [
    "# Workshop In Data Science"
   ]
  },
  {
   "cell_type": "markdown",
   "metadata": {},
   "source": [
    "Project made by:\n",
    "- Ofir Paz\n",
    "- Netanel Ulitszky\n",
    "\n",
    "For the course [\"Workshop in Data Science\"](https://www.openu.ac.il/courses/20936.htm) (20936) at The Open University of Israel.\n",
    "\n",
    "Personal links:\n",
    "<style>\n",
    "table {\n",
    "    border-collapse: collapse;\n",
    "    width: 50%;\n",
    "    margin-left: auto;\n",
    "    margin-right: auto;\n",
    "}\n",
    "td {\n",
    "    padding: 6px;\n",
    "    text-align: center;\n",
    "    border-bottom: 1px solid #DDD;\n",
    "}\n",
    "\n",
    "tr:hover {background-color: #333333;}\n",
    "</style>\n",
    "<table>\n",
    "    <tr>\n",
    "        <td>Ofir Paz</td>\n",
    "        <td>Netanel Ulitszky</td>\n",
    "    </tr>\n",
    "    <tr>\n",
    "        <td><a href=\"https://www.linkedin.com/in/ofir-paz\">Linkedin</a></td>\n",
    "        <td><a href=\"https://www.linkedin.com/in/netanel-ulitszky\">Linkedin</a></td>\n",
    "    </tr>\n",
    "    <tr>\n",
    "        <td><a href=\"https://www.github.com/ofir-paz\">Github</a></td>\n",
    "        <td><a href=\"https://github.com/netane54544\">Github</a></td>\n",
    "    </tr>\n",
    "    <tr>\n",
    "        <td><a href=\"https://www.kaggle.com/ofirpaz\">Kaggle</a></td>\n",
    "        <td><a href=\"https://www.kaggle.com/netanelulitszky\">Kaggle</a></td>\n",
    "    </tr>\n",
    "</table>\n",
    "\n",
    "<!-- style copy paste -->\n",
    "\n",
    "<!--\n",
    "|| (ℹ️) Note\n",
    "||  Content\n",
    " -->\n",
    "<style>\n",
    ".note-box {\n",
    "    border-left: 4px solid #0078D4;\n",
    "    border-image: 1;\n",
    "    padding-left: 10px;\n",
    "    border-radius: 0px;\n",
    "    padding-top: 2px;\n",
    "    padding-bottom: 2px;\n",
    "}\n",
    ".note-header {\n",
    "    display: flex;\n",
    "    align-items: center;\n",
    "    padding-bottom: 0.3em;\n",
    "}\n",
    ".note-icon {\n",
    "    font-size: 14px;\n",
    "    color: #0078D4;\n",
    "    background-color: #1E1E1E;\n",
    "    border: 2px solid #0078D4;\n",
    "    border-radius: 100%;\n",
    "    width: 16px;\n",
    "    height: 16px;\n",
    "    display: flex;\n",
    "    align-items: center;\n",
    "    justify-content: center;\n",
    "    margin-right: 8px;\n",
    "}\n",
    ".note {\n",
    "    color: #0078D4;\n",
    "    font-weight: bold;\n",
    "}\n",
    ".note-content {\n",
    "}\n",
    "</style>\n",
    "\n",
    "<!-- Usage Example\n",
    "\n",
    "<blockquote class=\"note-box\">\n",
    " <div class=\"note-header\">\n",
    "  <span class=\"note-icon\">ℹ️</span><strong class=\"note\">Note</strong> \n",
    " </div>\n",
    "  <span class=\"note-content\">Hello, this is a beautifully styled note with rounded corners.</span>\n",
    "</blockquote>\n",
    "\n",
    " -->\n",
    "<!-- End Note -->"
   ]
  },
  {
   "cell_type": "markdown",
   "metadata": {},
   "source": [
    "## Table Of Contents"
   ]
  },
  {
   "cell_type": "markdown",
   "metadata": {},
   "source": [
    "<style>\n",
    "ol {\n",
    "    list-style-position: inside;  /* Move the list marker inside the padding */\n",
    "    padding-left: 2em;  /* Add padding to create the effect of a tab */\n",
    "}\n",
    "</style>\n",
    "<details>\n",
    " <summary>1. <a href=\"#introduction\">Introduction</a></summary>\n",
    " \n",
    " 1. [Background](#background) \n",
    " 2. [The Competition](#the-competition)\n",
    "</details>\n",
    "<details>\n",
    " <summary>2. <a href=\"#exploratory-data-analysis\">Exploratory Data Analysis</a></summary>\n",
    "\n",
    " 1. [Imports](#imports)\n",
    " 2. [MRI Imaging](#mri-imaging)\n",
    "    - [About MRI](#about-mri)\n",
    "    - [MRI Sequences](#mri-sequences)\n",
    "    - [DICOM Files](#dicom-files)\n",
    " 3. [Data Layout](#data-layout)\n",
    " 4. [Data Analysis](#data-analysis)\n",
    "</details>"
   ]
  },
  {
   "cell_type": "markdown",
   "metadata": {},
   "source": [
    "## Introduction"
   ]
  },
  {
   "cell_type": "markdown",
   "metadata": {},
   "source": [
    "### Background"
   ]
  },
  {
   "cell_type": "markdown",
   "metadata": {},
   "source": [
    "We are Ofir Paz and Netanel Ulitzky, two students from The Open University of Israel, are excited to present our project in the course \"Workshop in Data Science\" (20936).\n",
    "\n",
    "We are both very interested in the field of data science and are passionated about the endless possibilities it offers, so choosing this course was a natural choice for us. But in the other hand, choosing the topic for our project was a bit more challenging for the same reason. We wanted to choose a topic that will be interesting, challenging, relevant and useful with big potential for *exploratory data analysis* (EDA). After a long and thorough search, we have stumbled upon the [\"Kaggle\"](https://www.kaggle.com) platform and found the [\"RSNA 2024 Lumbar Spine Degenerative Classification\"](https://www.kaggle.com/competitions/rsna-2024-lumbar-spine-degenerative-classification) competition."
   ]
  },
  {
   "cell_type": "markdown",
   "metadata": {},
   "source": [
    "### The Competition"
   ]
  },
  {
   "cell_type": "markdown",
   "metadata": {},
   "source": [
    "At a medical level, the competition is about helping radiologists to diagnose and classify spine degenerative conditions in a more accurate and efficient way. This can help to improve the quality of life for patients with spine degenerative conditions and to reduce the time and cost of the diagnosis process.\n",
    "\n",
    "The problem is that the current diagnosis process is very manual and time-consuming, and it requires a lot of expertise and experience from the radiologist. The radiologist needs to analyze the [MRI](#mri-imaging) images of the patient's lumbar spine and to classify the different spine degenerative conditions and their severity. This process is very subjective and can be affected by the radiologist's experience, knowledge, and mood.\n",
    "\n",
    "At a technical specification level, the competition is about classifying lumbar spine [MRI](#mri-imaging) images into 5 spine degenerative conditions:\n",
    "1. Left Neural Foraminal Narrowing\n",
    "2. Right Neural Foraminal Narrowing\n",
    "3. Left Subarticular Stenosis\n",
    "4. Right Subarticular Stenosis\n",
    "5. Spinal Canal Stenosis\n",
    "\n",
    "Notice that the conditions are divided into two types:\n",
    "- [Neural Foraminal Narrowing](https://my.clevelandclinic.org/health/diseases/24856-foraminal-stenosis)\n",
    "- [Stenosis](https://en.wikipedia.org/wiki/Spinal_stenosis)\n",
    "\n",
    "You can read more about the conditions in the links above.\n",
    "\n",
    "From those conditions, we need to classify **where** the condition is visible between the different spine disc levels: \n",
    "1. L1-L2\n",
    "2. L2-L3\n",
    "3. L3-L4\n",
    "4. L4-L5\n",
    "5. L5-S1\n",
    "\n",
    "With that, we need to provide a severity score for the condition: \n",
    "1. Normal/Mild\n",
    "2. Moderate\n",
    "3. Severe\n",
    "\n",
    "So, for each patient we need to provide a classification for the condition severity for each condition and spinal disc level, therefore we need to provide 25 classifications with 3 classes each."
   ]
  },
  {
   "cell_type": "markdown",
   "metadata": {},
   "source": [
    "## Exploratory Data Analysis"
   ]
  },
  {
   "cell_type": "markdown",
   "metadata": {},
   "source": [
    "As we are given a very complicated dataset that is medically related, we need to understand the data before we can start working with it. In this section, we will explain the data, the MRI imaging, and the data layout.\n",
    "\n",
    "We will also uncover various statictics about that data through data analysis.\n",
    "\n",
    "But first, we need to import the python libraries that we will use in this section."
   ]
  },
  {
   "cell_type": "markdown",
   "metadata": {},
   "source": [
    "### Imports"
   ]
  },
  {
   "cell_type": "code",
   "execution_count": null,
   "metadata": {},
   "outputs": [],
   "source": [
    "%reload_ext autoreload\n",
    "%autoreload 2\n",
    "\n",
    "# Built-in modules.\n",
    "import os\n",
    "\n",
    "# Third-party modules.\n",
    "import numpy as np\n",
    "import pydicom\n",
    "import pandas as pd\n",
    "import matplotlib.pyplot as plt\n",
    "import plotly.graph_objects as go\n",
    "from pathlib import Path\n",
    "from typing import List, Tuple, Dict, Any, Union, Optional\n",
    "\n",
    "# Custom modules.\n",
    "import src.config as cfg\n",
    "from src.plots import (\n",
    "    plot_pixel_array,\n",
    "    plot_dicom_series\n",
    ")\n",
    "\n",
    "%matplotlib inline"
   ]
  },
  {
   "cell_type": "markdown",
   "metadata": {},
   "source": [
    "### MRI Imaging"
   ]
  },
  {
   "cell_type": "markdown",
   "metadata": {},
   "source": [
    "#### About MRI"
   ]
  },
  {
   "cell_type": "markdown",
   "metadata": {},
   "source": [
    "Magnetic Resonance Imaging ([MRI](https://en.wikipedia.org/wiki/Magnetic_resonance_imaging)) is a medical imaging technique used in radiology to form pictures of the anatomy and the physiological processes of the body. MRI scanners use strong magnetic fields, magnetic field gradients, and radio waves to generate images of the organs in the body.\n",
    "\n",
    "MRI imaging is a very powerful tool in the medical field, as it can provide detailed images of the body's organs and tissues, and it can help to diagnose a wide range of medical conditions, including spine degenerative conditions."
   ]
  },
  {
   "cell_type": "markdown",
   "metadata": {},
   "source": [
    "#### MRI Sequences"
   ]
  },
  {
   "cell_type": "markdown",
   "metadata": {},
   "source": [
    "MRI imaging can be used to scan different parts of the body, including the lumbar spine. When generating an MRI image, the radiologist needs to set the sequence of the MRI scanner to generate the desired image. The sequence in an MRI scan refers to the specific set of parameters used to generate the image, which affects the visual appearance of the image and the information it provides.\n",
    "<style>\n",
    ".note-box {\n",
    "    border-left: 4px solid #0078D4;\n",
    "    border-image: 1;\n",
    "    padding-left: 10px;\n",
    "    border-radius: 0px;\n",
    "    padding-top: 2px;\n",
    "    padding-bottom: 2px;\n",
    "}\n",
    ".note-header {\n",
    "    display: flex;\n",
    "    align-items: center;\n",
    "    padding-bottom: 0.3em;\n",
    "}\n",
    ".note-icon {\n",
    "    font-size: 14px;\n",
    "    color: #0078D4;\n",
    "    background-color: #1E1E1E;\n",
    "    border: 2px solid #0078D4;\n",
    "    border-radius: 100%;\n",
    "    width: 16px;\n",
    "    height: 16px;\n",
    "    display: flex;\n",
    "    align-items: center;\n",
    "    justify-content: center;\n",
    "    margin-right: 8px;\n",
    "}\n",
    ".note {\n",
    "    color: #0078D4;\n",
    "    font-weight: bold;\n",
    "}\n",
    ".note-content {\n",
    "}\n",
    "</style>\n",
    "\n",
    "<blockquote class=\"note-box\">\n",
    " <div class=\"note-header\">\n",
    "  <span class=\"note-icon\">ℹ️</span><strong class=\"note\">Note</strong> \n",
    " </div>\n",
    "  <span class=\"note-content\">For further reading about MRI sequences and the specifics of the parameters used to configure one, you can read <a href=\"https://radiopaedia.org/articles/mri-sequence-parameters?lang=us\">this article</a>.</span>\n",
    "</blockquote>\n",
    "\n",
    "Our data contains MRI images with the following sequences:\n",
    "\n",
    "1. **Sagittal T2/STIR**\n",
    "    - Sagittal Plane: This refers to the plane of imaging that divides the body into left and right halves. When imaging is done in the sagittal plane, the images show slices of the body from the side.\n",
    "    - T2-weighted (T2): T2-weighted imaging highlights fluid and edema. In T2 images, fluids appear bright, and soft tissue contrast is well-differentiated. It is particularly useful for detecting abnormalities in tissues with high water content, such as inflammation, cysts, or tumors.\n",
    "    - STIR (Short Tau Inversion Recovery): STIR is a special type of T2-weighted sequence that suppresses the fat signal, making it easier to identify areas of edema or inflammation. It's commonly used in musculoskeletal imaging to assess conditions like bone marrow edema, soft tissue injuries, and other pathologies where fat suppression is important.\n",
    "2. **Sagittal T1**\n",
    "    - Sagittal Plane: As mentioned above, the sagittal plane divides the body into left and right sections.\n",
    "    - T1-weighted (T1): T1-weighted imaging provides good anatomical detail, particularly of fat-containing structures, which appear bright in T1 images. T1-weighted sequences are useful for evaluating anatomical structures, the integrity of tissues, and the presence of fatty lesions. T1 images are often used in conjunction with T2 images for a more comprehensive assessment of tissue contrast.\n",
    "3. **Axial T2**\n",
    "    - Axial Plane: The axial plane slices the body horizontally, dividing it into upper (superior) and lower (inferior) parts. Axial images are viewed as if looking from the feet upwards.\n",
    "    - T2-weighted (T2): As with sagittal T2, axial T2-weighted imaging highlights fluid and is useful for detecting pathology in cross-sectional views. Axial T2 images are often used to evaluate the spinal cord, intervertebral discs, and surrounding soft tissues, as well as to assess brain and abdominal structures.\n",
    "\n",
    "So, to sum things up:\n",
    "- Sagittal T2/STIR: Side view images with emphasis on fluid and inflammation, with fat signal suppression.\n",
    "- Sagittal T1: Side view images focusing on detailed anatomical structures with fat appearing bright.\n",
    "- Axial T2: Horizontal cross-sectional images highlighting fluid and pathology in the body.\n",
    "\n",
    "Before continuing to explore exactly what the data contains, we need to understand the format of the MRI images."
   ]
  },
  {
   "cell_type": "markdown",
   "metadata": {},
   "source": [
    "#### Dicom Files"
   ]
  },
  {
   "cell_type": "markdown",
   "metadata": {},
   "source": [
    "Dicom (Digital Imaging and Communications in Medicine) is the standard format used to store and transmit medical images, such as MRI images. Dicom files contain both the image data and the metadata associated with the image, such as the patient information, the imaging parameters, and the image acquisition details.\n",
    "\n",
    "MRI images are stored in Dicom files, which have the file extension \".dcm\". Each Dicom file contains a single MRI image, along with the metadata associated with the image. The metadata in a Dicom file can provide valuable information about the image, such as the patient's name, the imaging parameters, and the image acquisition details. We can use this metadata to gain further insights into the MRI images and to understand the characteristics of the lumbar spine degenerative conditions.\n",
    "\n",
    "To load and visualize the Dicom files, we have chosen to use the [pydicom](https://pydicom.github.io/pydicom/stable/index.html#) library, which is a Python library for working with Dicom files. This library provides functions to read and write Dicom files, as well as to extract the metadata from the Dicom files.\n",
    "\n",
    "In the next code block, we will load a sample Dicom file from the dataset and visualize the MRI image and the metadata associated with the image."
   ]
  },
  {
   "cell_type": "code",
   "execution_count": null,
   "metadata": {},
   "outputs": [],
   "source": [
    "example_dicom_path = cfg.TRAIN_IMAGES_PATH / cfg.EXAMPLE_ID / cfg.EXAMPLE_SAGITTAL_T1_ID / \"1.dcm\"\n",
    "example_dicom = pydicom.dcmread(example_dicom_path)\n",
    "example_dicom"
   ]
  },
  {
   "cell_type": "markdown",
   "metadata": {},
   "source": [
    "To get the MRI image from the Dicom file, we will use the `pixel_array` attribute of the Dicom file, which contains the pixel data of the image. We will also extract the metadata from the Dicom file and display it to gain insights into the image acquisition details."
   ]
  },
  {
   "cell_type": "code",
   "execution_count": null,
   "metadata": {},
   "outputs": [],
   "source": [
    "plot_pixel_array(example_dicom.pixel_array)"
   ]
  },
  {
   "cell_type": "markdown",
   "metadata": {},
   "source": [
    "We can also further enhance the visualization of the MRI image by plotting the entire 3D sequence of images in a 3D plot. This can provide a more comprehensive view of the MRI sequence and help to visualize the spatial relationships between the images. For this, we will use [Plotly](https://plotly.com/python/), a Python library for interactive data visualization."
   ]
  },
  {
   "cell_type": "code",
   "execution_count": null,
   "metadata": {},
   "outputs": [],
   "source": [
    "plot_dicom_series(example_dicom_path.parent)"
   ]
  },
  {
   "cell_type": "markdown",
   "metadata": {},
   "source": [
    "As you can see, indeed the sagittal T1 sequence is a side view image focusing on detailed anatomical structures with fat appearing bright (you can see fat tissue at the right side, near the skin of the back). We will later use this visulization tool to understand how the conditions are visible in the MRI images."
   ]
  },
  {
   "cell_type": "markdown",
   "metadata": {},
   "source": [
    "### Data Layout"
   ]
  },
  {
   "cell_type": "markdown",
   "metadata": {},
   "source": [
    "### Data Analysis"
   ]
  }
 ],
 "metadata": {
  "kernelspec": {
   "display_name": "Python 3",
   "language": "python",
   "name": "python3"
  },
  "language_info": {
   "codemirror_mode": {
    "name": "ipython",
    "version": 3
   },
   "file_extension": ".py",
   "mimetype": "text/x-python",
   "name": "python",
   "nbconvert_exporter": "python",
   "pygments_lexer": "ipython3",
   "version": "3.11.6"
  }
 },
 "nbformat": 4,
 "nbformat_minor": 2
}
